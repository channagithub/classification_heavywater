{
 "cells": [
  {
   "cell_type": "code",
   "execution_count": 1,
   "metadata": {},
   "outputs": [
    {
     "name": "stderr",
     "output_type": "stream",
     "text": [
      "Using TensorFlow backend.\n"
     ]
    }
   ],
   "source": [
    "import numpy\n",
    "from keras.datasets import imdb\n",
    "from keras.models import Sequential\n",
    "from keras.layers import Dense\n",
    "from keras.layers import LSTM\n",
    "from keras.layers.embeddings import Embedding\n",
    "from keras.preprocessing import sequence, text\n",
    "# fix random seed for reproducibility\n",
    "numpy.random.seed(7)\n",
    "import pandas as pd\n",
    "import numpy as np\n",
    "from sklearn.model_selection import train_test_split"
   ]
  },
  {
   "cell_type": "code",
   "execution_count": null,
   "metadata": {},
   "outputs": [],
   "source": []
  },
  {
   "cell_type": "code",
   "execution_count": null,
   "metadata": {},
   "outputs": [],
   "source": []
  },
  {
   "cell_type": "code",
   "execution_count": 13,
   "metadata": {},
   "outputs": [],
   "source": [
    "# read and replace null values\n",
    "heavywater_dataset_df = pd.read_csv(\"/Users/channa/Projects/heavywater/document-classification-test/shuffled-full-set-hashed.csv\", \n",
    "            names = ['class', 'doc'])\n",
    "\n",
    "heavywater_dataset_df.dropna(inplace = True)\n"
   ]
  },
  {
   "cell_type": "code",
   "execution_count": 11,
   "metadata": {},
   "outputs": [],
   "source": [
    "# convert dataframe to matrix\n",
    "# matrix values have tfidf of each word\n",
    "num_words_to_keep = 2000\n",
    "tokenizer_obj = text.Tokenizer(num_words = num_words_to_keep, \n",
    "                   filters='!\"#$%&()*+,-./:;<=>?@[\\\\]^_`{|}~\\t\\n', \n",
    "                   lower=True, \n",
    "                   split=' ', \n",
    "                   char_level=False, \n",
    "                   oov_token=None, \n",
    "                   document_count=0)\n",
    "tokenizer_obj.fit_on_texts(heavywater_dataset_df.doc)\n",
    "encoded_docs = tokenizer_obj.texts_to_matrix(heavywater_dataset_df.doc, mode='count')"
   ]
  },
  {
   "cell_type": "code",
   "execution_count": 14,
   "metadata": {},
   "outputs": [],
   "source": [
    "heavywater_dataset_df.replace({'class' : { 'DELETION OF INTEREST' : 1, \n",
    "                                            'RETURNED CHECK' : 2, \n",
    "                                            'BILL' : 4, \n",
    "                                            'POLICY CHANGE' : 5, \n",
    "                                            'CANCELLATION NOTICE' : 6, \n",
    "                                            'DECLARATION' : 7, \n",
    "                                            'CHANGE ENDORSEMENT' : 8, \n",
    "                                            'NON-RENEWAL NOTICE' : 9, \n",
    "                                            'BINDER' : 10, \n",
    "                                            'REINSTATEMENT NOTICE' : 11, \n",
    "                                            'EXPIRATION NOTICE' : 12, \n",
    "                                            'INTENT TO CANCEL NOTICE' : 13, \n",
    "                                            'APPLICATION' : 14, \n",
    "                                            'BILL BINDER' : 15, }}, inplace=True)\n",
    "y = np.array(heavywater_dataset_df['class'])"
   ]
  },
  {
   "cell_type": "code",
   "execution_count": null,
   "metadata": {},
   "outputs": [],
   "source": []
  },
  {
   "cell_type": "code",
   "execution_count": 15,
   "metadata": {},
   "outputs": [],
   "source": [
    "X_train, X_test, y_train, y_test = train_test_split(encoded_docs, y, test_size=0.33, random_state=42)"
   ]
  },
  {
   "cell_type": "code",
   "execution_count": 16,
   "metadata": {},
   "outputs": [
    {
     "data": {
      "text/plain": [
       "((41646, 2000), (41646,), (20513, 2000), (20513,))"
      ]
     },
     "execution_count": 16,
     "metadata": {},
     "output_type": "execute_result"
    }
   ],
   "source": [
    "X_train.shape, y_train.shape, X_test.shape, y_test.shape"
   ]
  },
  {
   "cell_type": "code",
   "execution_count": null,
   "metadata": {},
   "outputs": [],
   "source": [
    "# # truncate and pad input sequences\n",
    "# max_review_length = 2000\n",
    "# X_train = sequence.pad_sequences(X_train, maxlen = max_review_length, dtype = 'int32')\n",
    "# X_test = sequence.pad_sequences(X_test, maxlen = max_review_length, dtype = 'int32')"
   ]
  },
  {
   "cell_type": "code",
   "execution_count": null,
   "metadata": {},
   "outputs": [],
   "source": [
    "y_train"
   ]
  },
  {
   "cell_type": "code",
   "execution_count": null,
   "metadata": {},
   "outputs": [],
   "source": []
  },
  {
   "cell_type": "code",
   "execution_count": 20,
   "metadata": {},
   "outputs": [
    {
     "name": "stdout",
     "output_type": "stream",
     "text": [
      "_________________________________________________________________\n",
      "Layer (type)                 Output Shape              Param #   \n",
      "=================================================================\n",
      "embedding_8 (Embedding)      (None, 2000, 32)          64000     \n",
      "_________________________________________________________________\n",
      "lstm_8 (LSTM)                (None, 15)                2880      \n",
      "_________________________________________________________________\n",
      "dense_8 (Dense)              (None, 16)                256       \n",
      "=================================================================\n",
      "Total params: 67,136\n",
      "Trainable params: 67,136\n",
      "Non-trainable params: 0\n",
      "_________________________________________________________________\n",
      "None\n",
      "Train on 41646 samples, validate on 20513 samples\n",
      "Epoch 1/3\n",
      "41646/41646 [==============================] - 1575s 38ms/step - loss: 2.0097 - acc: 0.2917 - val_loss: 1.9723 - val_acc: 0.3005\n",
      "Epoch 2/3\n",
      "41646/41646 [==============================] - 1572s 38ms/step - loss: 1.9583 - acc: 0.3072 - val_loss: 1.9708 - val_acc: 0.3005\n",
      "Epoch 3/3\n",
      "41646/41646 [==============================] - 1556s 37ms/step - loss: 1.9556 - acc: 0.3079 - val_loss: 1.9699 - val_acc: 0.3014\n"
     ]
    },
    {
     "data": {
      "text/plain": [
       "<keras.callbacks.History at 0x12dc33630>"
      ]
     },
     "execution_count": 20,
     "metadata": {},
     "output_type": "execute_result"
    }
   ],
   "source": [
    "# create the model\n",
    "embedding_vector_length = 32\n",
    "max_review_length = 2000\n",
    "model = Sequential()\n",
    "model.add(Embedding(num_words_to_keep, embedding_vector_length, input_length=max_review_length))\n",
    "model.add(LSTM(15))\n",
    "model.add(Dense(16, activation='softmax'))\n",
    "model.compile(loss='sparse_categorical_crossentropy', optimizer='rmsprop', metrics=['accuracy'])\n",
    "print(model.summary())\n",
    "model.fit(X_train, y_train, validation_data=(X_test, y_test), epochs=3, batch_size=64)"
   ]
  },
  {
   "cell_type": "code",
   "execution_count": null,
   "metadata": {},
   "outputs": [],
   "source": []
  }
 ],
 "metadata": {
  "kernelspec": {
   "display_name": "heavywater",
   "language": "python",
   "name": "heavywater"
  },
  "language_info": {
   "codemirror_mode": {
    "name": "ipython",
    "version": 3
   },
   "file_extension": ".py",
   "mimetype": "text/x-python",
   "name": "python",
   "nbconvert_exporter": "python",
   "pygments_lexer": "ipython3",
   "version": "3.7.0"
  }
 },
 "nbformat": 4,
 "nbformat_minor": 2
}
